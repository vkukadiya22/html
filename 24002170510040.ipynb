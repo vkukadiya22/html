{
 "cells": [
  {
   "cell_type": "code",
   "execution_count": null,
   "metadata": {},
   "outputs": [],
   "source": [
    "a=5\n",
    "b=7\n",
    "print(a+b)\n",
    "print('Hello World')"
   ]
  },
  {
   "cell_type": "code",
   "execution_count": null,
   "metadata": {},
   "outputs": [],
   "source": [
    "print(a)"
   ]
  },
  {
   "cell_type": "code",
   "execution_count": null,
   "metadata": {},
   "outputs": [],
   "source": [
    "from __future__ import braces"
   ]
  },
  {
   "cell_type": "code",
   "execution_count": null,
   "metadata": {},
   "outputs": [],
   "source": [
    "a=5\n",
    "b=a\n",
    "print(id(a))\n",
    "print(id(b))"
   ]
  },
  {
   "cell_type": "code",
   "execution_count": null,
   "metadata": {},
   "outputs": [],
   "source": [
    "a=7\n",
    "b=7\n",
    "print(id(a))\n",
    "print(id(b))"
   ]
  },
  {
   "cell_type": "code",
   "execution_count": null,
   "metadata": {},
   "outputs": [],
   "source": [
    "a=b=5\n",
    "print(id(a))\n",
    "print(id(b))"
   ]
  },
  {
   "cell_type": "code",
   "execution_count": null,
   "metadata": {},
   "outputs": [],
   "source": [
    "a=\"Hello \"\n",
    "b='\\nit\\'s new World'\n",
    "print(a+b)"
   ]
  },
  {
   "cell_type": "code",
   "execution_count": null,
   "metadata": {},
   "outputs": [],
   "source": [
    "s=True\n",
    "print(int(s))\n",
    "print(float(s))"
   ]
  },
  {
   "cell_type": "code",
   "execution_count": null,
   "metadata": {},
   "outputs": [],
   "source": [
    "s=False\n",
    "print(int(s))\n",
    "print(float(s))"
   ]
  },
  {
   "cell_type": "code",
   "execution_count": null,
   "metadata": {},
   "outputs": [],
   "source": [
    "x=input(\"Enter Anything:\")\n",
    "print(x)"
   ]
  },
  {
   "cell_type": "code",
   "execution_count": null,
   "metadata": {},
   "outputs": [],
   "source": [
    "a=-7\n",
    "b=3\n",
    "print(a%b)"
   ]
  },
  {
   "cell_type": "code",
   "execution_count": null,
   "metadata": {},
   "outputs": [],
   "source": [
    "a=\"hello\"\n",
    "print(a+a)\n",
    "print(a*2)"
   ]
  },
  {
   "cell_type": "code",
   "execution_count": null,
   "metadata": {},
   "outputs": [],
   "source": [
    "print(4==4)\n",
    "print(4=='4')\n",
    "print(4==4.0)\n",
    "print(4==True)\n",
    "print(False==0)"
   ]
  },
  {
   "cell_type": "code",
   "execution_count": null,
   "metadata": {},
   "outputs": [],
   "source": [
    "a=int(input(\"Enter First Value:\"))\n",
    "c=input(\"Enter oprerator(+,-,*,/):\")\n",
    "b=int(input(\"Enter Second Value:\"))\n",
    "def add(a,b):\n",
    "    print(a+b) \n",
    "def sub(a,b):\n",
    "    print(a-b)\n",
    "def mul(a,b):\n",
    "    print(a*b)\n",
    "def div(a,b):\n",
    "    print(a/b)\n",
    "if c==\"+\":\n",
    "    add(a,b)\n",
    "elif c==\"-\":\n",
    "    sub(a,b)\n",
    "elif c==\"*\":\n",
    "    mul(a,b)\n",
    "elif c==\"/\":\n",
    "    div(a,b)\n",
    "else:\n",
    "    print(\"Invalid Choice\")"
   ]
  },
  {
   "cell_type": "code",
   "execution_count": null,
   "metadata": {},
   "outputs": [],
   "source": [
    "print(\"p\" in \"python\")\n",
    "print(\"p\" and \"o\" in \"python\")\n",
    "print(1 in [1,2,3])"
   ]
  },
  {
   "cell_type": "code",
   "execution_count": null,
   "metadata": {},
   "outputs": [],
   "source": [
    "print(4 or 5)\n",
    "print(5 or 4)\n",
    "print(4 or 5)\n",
    "print(4 and 5)\n",
    "print(5 or 4)\n",
    "print(0 or 3)"
   ]
  },
  {
   "cell_type": "code",
   "execution_count": null,
   "metadata": {},
   "outputs": [],
   "source": [
    "x=-2\n",
    "print(\"positive\" if x>0 else \"negative\")"
   ]
  },
  {
   "cell_type": "code",
   "execution_count": null,
   "metadata": {},
   "outputs": [],
   "source": [
    "not(not(4))"
   ]
  },
  {
   "cell_type": "code",
   "execution_count": null,
   "metadata": {},
   "outputs": [],
   "source": [
    "callable"
   ]
  },
  {
   "cell_type": "code",
   "execution_count": null,
   "metadata": {
    "scrolled": true
   },
   "outputs": [],
   "source": [
    "print(2 or 3 and False or 5)\n",
    "print(0 or False and 4 or 7)\n",
    "print((1 or 4) and False or 0)\n",
    "print(2**3+10/2-1<5 and (7 or 3)!=6 or \"p\" in \"python\")\n",
    "print((8/3)**2+(1>10 or (not True and [3 in 1,2,3])) or \"hello\"!=\"world\" or (5//2)+1==3)"
   ]
  },
  {
   "cell_type": "code",
   "execution_count": null,
   "metadata": {},
   "outputs": [],
   "source": [
    "s=\"Hello World\"\n",
    "print(s.count(\"l\"))\n",
    "print(len(s))\n",
    "print(s.split('l'))"
   ]
  },
  {
   "cell_type": "code",
   "execution_count": null,
   "metadata": {},
   "outputs": [],
   "source": [
    "a=input(\"Enter Number:\")\n",
    "print(int(a)+int(a*2)+int(a*3))"
   ]
  },
  {
   "cell_type": "code",
   "execution_count": null,
   "metadata": {},
   "outputs": [],
   "source": [
    "print(ord('a'))\n",
    "print(chr(99))"
   ]
  },
  {
   "cell_type": "code",
   "execution_count": null,
   "metadata": {},
   "outputs": [],
   "source": [
    "a=0\n",
    "if a>0:\n",
    "    print('POSITIVE')\n",
    "elif a==0:\n",
    "    print('NUMBER IS 0')\n",
    "else:\n",
    "    print('NEGATIVE')"
   ]
  },
  {
   "cell_type": "code",
   "execution_count": null,
   "metadata": {},
   "outputs": [],
   "source": [
    "a=54\n",
    "if a>0:\n",
    "    if a%2==0:\n",
    "        print(\"POSITIVE EVEN\")\n",
    "    else:\n",
    "        print(\"POSITIVE ODD\")\n",
    "elif a<0:\n",
    "    if a%2==0:\n",
    "        print(\"NEGATIVE EVEN\")\n",
    "    else:\n",
    "        print(\"NEGATIVE ODD\")\n",
    "else:\n",
    "    print('NUMBER IS ZERO')"
   ]
  },
  {
   "cell_type": "code",
   "execution_count": null,
   "metadata": {},
   "outputs": [],
   "source": [
    "n=int(input(\"enter No. :\"))\n",
    "if n>0:\n",
    "    print(\"Number is Positive\")\n",
    "if n<10:\n",
    "    print(\"Number Is Less Than 10\")\n",
    "else:\n",
    "    print(\"Number Is More Than 10\")"
   ]
  },
  {
   "cell_type": "code",
   "execution_count": null,
   "metadata": {},
   "outputs": [],
   "source": [
    "a=float(input(\"Enter The Dollor Under 0 to 1:\"))\n",
    "if a>0 and a<=1:\n",
    "    c=a*100\n",
    "    print(f\"Cent:{c}\")\n",
    "    p=c%25\n",
    "    print(f\"Penny:{p}\")\n",
    "    q=c-p\n",
    "    q=q/25\n",
    "    print(f\"Quater:{q}\")\n",
    "    n=c/5\n",
    "    print(f\"Nickel:{n}\")\n",
    "    d=c/10\n",
    "    print(f\"Dime:{d}\")\n",
    "else:\n",
    "    print(\"Enter In 0 to 1\")"
   ]
  },
  {
   "cell_type": "code",
   "execution_count": null,
   "metadata": {},
   "outputs": [],
   "source": [
    "a=float(input(\"Enter The Dollor Under 0 to 1:\"))\n",
    "if a>0 and a<=1:\n",
    "    c=(a*100)\n",
    "    q=c//25\n",
    "    r=c%25\n",
    "    d=r//10\n",
    "    d_r=r%10\n",
    "    n=d_r//5\n",
    "    n_r=d_r%5\n",
    "    p=round(n_r)\n",
    "    if q>0:\n",
    "        print(q,\"Quater\")\n",
    "    if r>0:\n",
    "        if d>0:\n",
    "            print(d,\"Dime\")\n",
    "    if d_r>0:\n",
    "        if n>0:\n",
    "            print(n,\"Nickel\")\n",
    "    if n_r>0:\n",
    "        if p>0:\n",
    "            print(p,\"Penny\")\n",
    "else:\n",
    "    print(\"Enter Between 0 to 1\")"
   ]
  },
  {
   "cell_type": "code",
   "execution_count": null,
   "metadata": {},
   "outputs": [],
   "source": [
    "print('Hello\"',end='-World')"
   ]
  },
  {
   "cell_type": "code",
   "execution_count": null,
   "metadata": {},
   "outputs": [],
   "source": [
    "a=int(input(\"Enter First Number:\"))\n",
    "b=int(input(\"Enter Second Number:\"))\n",
    "c=int(input(\"Enter Third Number:\"))\n",
    "print(\"Ascending:\")\n",
    "if a>b and a>c:\n",
    "    if b>c:\n",
    "        print(a,b,c)\n",
    "    if c>b:\n",
    "        print(a,c,b)\n",
    "if b>a and b>c:\n",
    "    if a>c:\n",
    "        print(b,a,c)\n",
    "    if c>a:\n",
    "        print(b,c,a)\n",
    "if c>a and c>b:\n",
    "    if a>b:\n",
    "        print(c,a,b)\n",
    "    if b>a:\n",
    "        print(c,b,a)    \n",
    "print(\"Descending:\")\n",
    "if a<b and a<c:\n",
    "    if b<c:\n",
    "        print(a,b,c)\n",
    "    if c<b:\n",
    "        print(a,c,b)\n",
    "if b<a and b<c:\n",
    "    if a<c:\n",
    "        print(b,a,c)\n",
    "    if c<a:\n",
    "        print(b,c,a)\n",
    "if c<a and c<b:\n",
    "    if a<b:\n",
    "        print(c,a,b)\n",
    "    if b<a:\n",
    "        print(c,b,a)"
   ]
  },
  {
   "cell_type": "code",
   "execution_count": null,
   "metadata": {},
   "outputs": [],
   "source": [
    "s=\"Hello\"\n",
    "for i in s:\n",
    "    print(i)"
   ]
  },
  {
   "cell_type": "code",
   "execution_count": null,
   "metadata": {},
   "outputs": [],
   "source": [
    "for i in range (1,7):\n",
    "    print(i)\n",
    "    if i>5:\n",
    "        break\n",
    "else:\n",
    "    print(\"End Of The Loop\")"
   ]
  },
  {
   "cell_type": "code",
   "execution_count": null,
   "metadata": {},
   "outputs": [],
   "source": [
    "# wap to encode the no. given by user\n",
    "a=int(input(\"Enter Number: \"))\n",
    "count=0\n",
    "output=0\n",
    "while a!=0:\n",
    "    r=a%10\n",
    "    if r in range (1,8):\n",
    "        r+=2\n",
    "    elif r==8 or r==9:\n",
    "        r=r%7\n",
    "    output=output+(r*10**count)\n",
    "    count+=1\n",
    "    a=a//10\n",
    "print(f\"Output: {output}\")"
   ]
  },
  {
   "cell_type": "code",
   "execution_count": null,
   "metadata": {},
   "outputs": [],
   "source": [
    "# wap that promt the user to enter no. and stop only when user enter done after this print the avg of the no. min and max \n",
    "# no. from all the no. enter by user \n",
    "count=0\n",
    "total=0\n",
    "min_inp=0\n",
    "max_inp=0\n",
    "while True:\n",
    "    inp=input(\"Enter The Number Or Done To Exit: \")\n",
    "    if inp==\"done\":\n",
    "        break\n",
    "        \n",
    "    inp=float(inp)\n",
    "    total+=inp\n",
    "    count+=1\n",
    "    \n",
    "    if min_inp == 0 or inp<min_inp:\n",
    "        min_inp=inp\n",
    "    if max_inp == 0 or inp>max_inp:\n",
    "        max_inp=inp\n",
    "    \n",
    "avg=total/count\n",
    "print(f\"Avg: {avg}\\nMax: {max_inp}\\nMin: {min_inp}\")"
   ]
  },
  {
   "cell_type": "code",
   "execution_count": null,
   "metadata": {},
   "outputs": [],
   "source": [
    "a=int(input(\"Enter Rows:\"))\n",
    "for i in range (a):\n",
    "    for j in range (i+1):\n",
    "        print(\"*\",end=\" \")\n",
    "    print()"
   ]
  },
  {
   "cell_type": "code",
   "execution_count": null,
   "metadata": {},
   "outputs": [],
   "source": [
    "a=int(input(\"Enter Rows:\"))\n",
    "for i in range (a):\n",
    "    for j in range (a-i):\n",
    "        print(\"*\",end=\" \")\n",
    "    print()"
   ]
  },
  {
   "cell_type": "code",
   "execution_count": null,
   "metadata": {},
   "outputs": [],
   "source": [
    "a=int(input(\"Enter Rows:\"))\n",
    "for i in range (a):\n",
    "    for j in range ((a-1)+i):\n",
    "        print(\" \",end=\" \")\n",
    "    for k in range (i+1):\n",
    "        print(\"*\",end=\" \")\n",
    "    print()"
   ]
  },
  {
   "cell_type": "code",
   "execution_count": null,
   "metadata": {},
   "outputs": [],
   "source": [
    "a=int(input(\"Enter Rows:\"))\n",
    "for i in range (a):\n",
    "    for j in range (i):\n",
    "        print(\" \",end=\" \")\n",
    "    for k in range (a-i):\n",
    "        print(\"*\",end=\" \")\n",
    "    print()"
   ]
  },
  {
   "cell_type": "code",
   "execution_count": null,
   "metadata": {},
   "outputs": [],
   "source": [
    "a=int(input(\"Enter Rows:\"))\n",
    "for i in range (a):\n",
    "    for j in range (a-1):\n",
    "        print(\" \",end=\" \")\n",
    "    for k in range (a-i):\n",
    "        print(\"*\",end=\" \")\n",
    "    print()"
   ]
  },
  {
   "cell_type": "code",
   "execution_count": null,
   "metadata": {},
   "outputs": [],
   "source": [
    "a=int(input(\"Enter Rows:\"))\n",
    "for i in range (a):\n",
    "    for j in range ((a-1)-i):\n",
    "        print(\" \",end=\" \")\n",
    "    for k in range (i+1):\n",
    "        if i%2==0:\n",
    "            print(\"*\",end=\" \")\n",
    "        else:\n",
    "            print(\"#\",end=\" \")\n",
    "    print()\n",
    "    \n",
    "for i in range (a-1):\n",
    "    for j in range (i+1):\n",
    "        print(\" \",end=\" \")\n",
    "    for k in range ((a-1)-i):\n",
    "        if i%2==0:\n",
    "            print(\"#\",end=\" \")\n",
    "        else:\n",
    "            print(\"*\",end=\" \")\n",
    "    print()"
   ]
  },
  {
   "cell_type": "code",
   "execution_count": null,
   "metadata": {},
   "outputs": [],
   "source": [
    "for i in range (5):\n",
    "    for j in range (i+1):\n",
    "        print(\"*\",end=\" \")\n",
    "    print()"
   ]
  },
  {
   "cell_type": "code",
   "execution_count": null,
   "metadata": {},
   "outputs": [],
   "source": [
    "a=int(input(\"Enter Rows:\"))\n",
    "\n",
    "for i in range (a):\n",
    "    for j in range (i,a):\n",
    "        print(\"*\",end=\" \")\n",
    "    for j in range (i):\n",
    "        print(\" \",end=\" \")\n",
    "    for k in range (a-i):\n",
    "        print(\"*\",end=\" \")\n",
    "    print()\n",
    "\n",
    "for i in range (a):\n",
    "    for j in range (i+1):\n",
    "        print(\"*\",end=\" \")\n",
    "    print()\n",
    "    \n",
    "print()\n",
    "for i in range (a):\n",
    "    for j in range (i):\n",
    "        print(\" \",end=\" \")\n",
    "    for k in range (a-i):\n",
    "        print(\"*\",end=\" \")\n",
    "    print()"
   ]
  },
  {
   "cell_type": "code",
   "execution_count": null,
   "metadata": {},
   "outputs": [],
   "source": [
    "a=int(input(\"Enter Rows:\"))\n",
    "count=1\n",
    "for i in range (a):\n",
    "    for j in range (a-i):\n",
    "        print(\"*\",end=\" \")\n",
    "        count+=1\n",
    "    for k in range (i):\n",
    "        print(\" \"*2,end=\" \"*2)\n",
    "        count+=1\n",
    "    for l in range (a-i):\n",
    "        print(\"*\",end=\" \")\n",
    "        count+=1\n",
    "    print()\n",
    "    count+=1\n",
    "\n",
    "for i in range (a):\n",
    "    for j in range (i+1):\n",
    "        print(\"*\",end=\" \")\n",
    "        count+=1\n",
    "    for k in range ((a-1)-i):\n",
    "        print(\" \"*2,end=\" \"*2)\n",
    "        count+=1\n",
    "    for l in range (i+1):\n",
    "        print(\"*\",end=\" \")\n",
    "        count+=1\n",
    "    print()\n",
    "    count+=1\n",
    "count=count-1\n",
    "print(f\"Total Star: {count}\")"
   ]
  },
  {
   "cell_type": "code",
   "execution_count": null,
   "metadata": {},
   "outputs": [],
   "source": [
    "# 2 Straight Line\n",
    "a=int(input(\"Enter Rows:\"))\n",
    "for row in range (a):\n",
    "    for col in range (a):\n",
    "        if (col==0 or col==a) :\n",
    "            print(\"*\",end=\" \")\n",
    "        else:\n",
    "            print(\" \",end=\" \")\n",
    "    print()"
   ]
  },
  {
   "cell_type": "code",
   "execution_count": null,
   "metadata": {},
   "outputs": [],
   "source": [
    "for row in range (10):\n",
    "    for col in range (10):\n",
    "        \n",
    "        if (col==0 or col==9) :\n",
    "            print(\"*\",end=\" \")\n",
    "            \n",
    "        elif ((col==1 or col==8) and (row!=4 and row!=5)):\n",
    "            print(\"*\",end=\" \")\n",
    "            \n",
    "        elif ((col==2 or col==7) and (row<3 or row>6)):\n",
    "            print(\"*\",end=\" \")\n",
    "            \n",
    "        elif ((col==3 or col==6) and (row<2 or row>7)):\n",
    "            print(\"*\",end=\" \")\n",
    "            \n",
    "        elif ((col==4 or col==5) and (row==0 or row==9)):\n",
    "            print(\"*\",end=\" \")\n",
    "            \n",
    "        else:\n",
    "            print(\" \",end=\" \")\n",
    "    print()"
   ]
  },
  {
   "cell_type": "code",
   "execution_count": null,
   "metadata": {},
   "outputs": [],
   "source": [
    "for row in range (10):\n",
    "    for col in range (10):\n",
    "        if (col==0 or col==9):\n",
    "            print(\"*\",end=\" \")\n",
    "            \n",
    "        elif (row==0 or row==5):\n",
    "            print(\"*\",end=\" \")\n",
    "            \n",
    "        elif (row==10 or row==5):\n",
    "            print(\"*\",end=\" \")\n",
    "        \n",
    "        else:\n",
    "            print(\" \",end=\" \")\n",
    "    print()"
   ]
  },
  {
   "cell_type": "code",
   "execution_count": null,
   "metadata": {},
   "outputs": [],
   "source": [
    "for i in range (7):\n",
    "    for j in range (4):\n",
    "        if ((j==0) or ((j==1 or j==2) and (i==0 or i==6 or i==3)) or (j==3 and (i!=0 and i!=6 and i!=3))):\n",
    "            print(\"*\",end=\" \")\n",
    "        else:\n",
    "            print(\" \",end=\" \")\n",
    "    print()"
   ]
  },
  {
   "cell_type": "code",
   "execution_count": null,
   "metadata": {},
   "outputs": [],
   "source": [
    "n = int(input(\"Enter Number: \")) \n",
    "\n",
    "for i in range(n):\n",
    "    print(\" \"*i, end=\" \")\n",
    "    for j in range(i+1, n+1):\n",
    "        print(j, end=\" \")\n",
    "    print()\n",
    "\n",
    "for i in range(n-2, -1, -1):\n",
    "    print(\" \"*i, end=\" \")\n",
    "    for j in range(i+1,n+1):\n",
    "        print(j, end=\" \")\n",
    "    print()\n"
   ]
  },
  {
   "cell_type": "code",
   "execution_count": null,
   "metadata": {},
   "outputs": [],
   "source": [
    "def fun():\n",
    "    print(\"Inside Function\")\n",
    "    return \"Done\"\n",
    "fun()\n",
    "a=fun()\n",
    "print(fun())"
   ]
  },
  {
   "cell_type": "code",
   "execution_count": null,
   "metadata": {},
   "outputs": [],
   "source": [
    "print(print(\"hello\"))"
   ]
  },
  {
   "cell_type": "code",
   "execution_count": null,
   "metadata": {},
   "outputs": [],
   "source": [
    "a=3\n",
    "b=5\n",
    "def add():\n",
    "    a=3\n",
    "    b=1\n",
    "    print(a+b)\n",
    "# 1 and 2 line\n",
    "print(a) \n",
    "print(b)\n",
    "\n",
    "a=4\n",
    "b=7\n",
    "# 6th line\n",
    "add()\n",
    "\n",
    "# 11 and 12 line\n",
    "print(a)\n",
    "print(b)"
   ]
  },
  {
   "cell_type": "code",
   "execution_count": null,
   "metadata": {},
   "outputs": [],
   "source": [
    "def add(a,b):\n",
    "    x=a+b\n",
    "    return x\n",
    "a=int(input(\"Enter First Number :\"))\n",
    "b=int(input(\"Enter Second Number :\"))\n",
    "result=add(a,b)\n",
    "print(f\"Addition:{result}\")"
   ]
  },
  {
   "cell_type": "code",
   "execution_count": null,
   "metadata": {},
   "outputs": [],
   "source": [
    "def fun():\n",
    "    global a\n",
    "    a=a+1\n",
    "    x=a+b\n",
    "    print(a+b)\n",
    "a=5\n",
    "b=4\n",
    "fun()"
   ]
  },
  {
   "cell_type": "code",
   "execution_count": null,
   "metadata": {},
   "outputs": [],
   "source": [
    "def fun(x):\n",
    "    x=x+1\n",
    "    print(x)\n",
    "x=7\n",
    "fun(x)"
   ]
  },
  {
   "cell_type": "code",
   "execution_count": null,
   "metadata": {},
   "outputs": [],
   "source": [
    "def fun():\n",
    "    print(\"Hello\")\n",
    "    print(x)\n",
    "#     x=x+1\n",
    "    print(x*2)\n",
    "x=3\n",
    "fun()"
   ]
  },
  {
   "cell_type": "code",
   "execution_count": 3,
   "metadata": {},
   "outputs": [
    {
     "ename": "SyntaxError",
     "evalue": "positional argument follows keyword argument (<ipython-input-3-24efb9a82a4d>, line 9)",
     "output_type": "error",
     "traceback": [
      "\u001b[1;36m  File \u001b[1;32m\"<ipython-input-3-24efb9a82a4d>\"\u001b[1;36m, line \u001b[1;32m9\u001b[0m\n\u001b[1;33m    print(add(a=5,7))\u001b[0m\n\u001b[1;37m                  ^\u001b[0m\n\u001b[1;31mSyntaxError\u001b[0m\u001b[1;31m:\u001b[0m positional argument follows keyword argument\n"
     ]
    }
   ],
   "source": [
    "def add(a=3,b=5):\n",
    "    x=a+b\n",
    "    return x\n",
    "print(add(7,3))\n",
    "print(add(11))\n",
    "print(add(b=9))\n",
    "print(add(7,b=8))\n",
    "print(add(b=9,a=8))\n",
    "# print(add(a=5,7))\n"
   ]
  },
  {
   "cell_type": "code",
   "execution_count": 7,
   "metadata": {},
   "outputs": [
    {
     "name": "stdout",
     "output_type": "stream",
     "text": [
      "1\n",
      "4\n",
      "5\n",
      "7\n",
      "8\n",
      "9\n"
     ]
    }
   ],
   "source": [
    "def fun(*a):\n",
    "    for i in a:\n",
    "        print(i)\n",
    "fun(1,4,5,7,8,9)"
   ]
  },
  {
   "cell_type": "code",
   "execution_count": 10,
   "metadata": {},
   "outputs": [
    {
     "name": "stdout",
     "output_type": "stream",
     "text": [
      "(5, 7, 8, 9, 3)\n",
      "(5, 7, 8, 9, 3)\n",
      "(5, 7, 8, 9, 3)\n",
      "(5, 7, 8, 9, 3)\n",
      "(5, 7, 8, 9, 3)\n",
      "1 4\n"
     ]
    }
   ],
   "source": [
    "def fun(c,d,*a):\n",
    "    for i in a:\n",
    "        print(a)\n",
    "    print(c,d)\n",
    "fun(1,4,5,7,8,9)"
   ]
  },
  {
   "cell_type": "code",
   "execution_count": 20,
   "metadata": {},
   "outputs": [
    {
     "name": "stdout",
     "output_type": "stream",
     "text": [
      "Inside F\n",
      "Inside G\n"
     ]
    }
   ],
   "source": [
    "def f():\n",
    "    def g():\n",
    "        print(\"Inside G\")\n",
    "    print(\"Inside F\")\n",
    "    g()\n",
    "f()\n"
   ]
  },
  {
   "cell_type": "code",
   "execution_count": 25,
   "metadata": {},
   "outputs": [
    {
     "ename": "SyntaxError",
     "evalue": "name 'x' is parameter and global (<ipython-input-25-fe2ad1016c80>, line 4)",
     "output_type": "error",
     "traceback": [
      "\u001b[1;36m  File \u001b[1;32m\"<ipython-input-25-fe2ad1016c80>\"\u001b[1;36m, line \u001b[1;32m4\u001b[0m\n\u001b[1;33m    global x\u001b[0m\n\u001b[1;37m    ^\u001b[0m\n\u001b[1;31mSyntaxError\u001b[0m\u001b[1;31m:\u001b[0m name 'x' is parameter and global\n"
     ]
    }
   ],
   "source": [
    "def g(x):\n",
    "    def h():\n",
    "        x=\"abc\"\n",
    "#   global x\n",
    "    x=x+1\n",
    "    print(\"In G\",x)\n",
    "    h()\n",
    "    return x\n",
    "x=3\n",
    "z=g(x)\n",
    "print(z)\n",
    "print(x)"
   ]
  },
  {
   "cell_type": "code",
   "execution_count": 26,
   "metadata": {},
   "outputs": [
    {
     "name": "stdout",
     "output_type": "stream",
     "text": [
      "4\n",
      "5\n",
      "4\n",
      "3\n",
      "4\n"
     ]
    }
   ],
   "source": [
    "def g(x):\n",
    "    def h(x):\n",
    "        x=x+1\n",
    "        print(x)\n",
    "#   global x\n",
    "    x=x+1\n",
    "    print(x)\n",
    "    h(x)\n",
    "    return x\n",
    "x=3\n",
    "z=g(x)\n",
    "print(z)\n",
    "print(x)\n",
    "print(z)"
   ]
  },
  {
   "cell_type": "code",
   "execution_count": 29,
   "metadata": {},
   "outputs": [
    {
     "ename": "TypeError",
     "evalue": "fun() takes 0 positional arguments but 1 was given",
     "output_type": "error",
     "traceback": [
      "\u001b[1;31m---------------------------------------------------------------------------\u001b[0m",
      "\u001b[1;31mTypeError\u001b[0m                                 Traceback (most recent call last)",
      "\u001b[1;32m<ipython-input-29-69d4fab51642>\u001b[0m in \u001b[0;36m<module>\u001b[1;34m\u001b[0m\n\u001b[0;32m      3\u001b[0m     \u001b[0ma\u001b[0m\u001b[1;33m=\u001b[0m\u001b[0ma\u001b[0m\u001b[1;33m+\u001b[0m\u001b[1;36m1\u001b[0m\u001b[1;33m\u001b[0m\u001b[1;33m\u001b[0m\u001b[0m\n\u001b[0;32m      4\u001b[0m     \u001b[0mprint\u001b[0m\u001b[1;33m(\u001b[0m\u001b[0ma\u001b[0m\u001b[1;33m)\u001b[0m\u001b[1;33m\u001b[0m\u001b[1;33m\u001b[0m\u001b[0m\n\u001b[1;32m----> 5\u001b[1;33m \u001b[0mfun\u001b[0m\u001b[1;33m(\u001b[0m\u001b[1;36m5\u001b[0m\u001b[1;33m)\u001b[0m\u001b[1;33m\u001b[0m\u001b[1;33m\u001b[0m\u001b[0m\n\u001b[0m",
      "\u001b[1;31mTypeError\u001b[0m: fun() takes 0 positional arguments but 1 was given"
     ]
    }
   ],
   "source": [
    "def fun(a):\n",
    "    global a\n",
    "    a=a+1\n",
    "    print(a)\n",
    "fun(5)"
   ]
  },
  {
   "cell_type": "code",
   "execution_count": 47,
   "metadata": {},
   "outputs": [
    {
     "name": "stdout",
     "output_type": "stream",
     "text": [
      "Enter Hour(between 1 to 12): 4\n",
      "Enter AM or PM: pm\n",
      "Enter Future Hour(between 1 to 12): 9\n"
     ]
    },
    {
     "ename": "RecursionError",
     "evalue": "maximum recursion depth exceeded in comparison",
     "output_type": "error",
     "traceback": [
      "\u001b[1;31m---------------------------------------------------------------------------\u001b[0m",
      "\u001b[1;31mRecursionError\u001b[0m                            Traceback (most recent call last)",
      "\u001b[1;32m<ipython-input-47-d98a62c66f1e>\u001b[0m in \u001b[0;36m<module>\u001b[1;34m\u001b[0m\n\u001b[0;32m     21\u001b[0m \u001b[1;32mif\u001b[0m \u001b[1;36m0\u001b[0m\u001b[1;33m<\u001b[0m\u001b[0mhr\u001b[0m\u001b[1;33m<\u001b[0m\u001b[1;36m13\u001b[0m\u001b[1;33m:\u001b[0m\u001b[1;33m\u001b[0m\u001b[1;33m\u001b[0m\u001b[0m\n\u001b[0;32m     22\u001b[0m     \u001b[1;32mif\u001b[0m \u001b[0map\u001b[0m\u001b[1;33m==\u001b[0m\u001b[1;34m\"pm\"\u001b[0m\u001b[1;33m:\u001b[0m\u001b[1;33m\u001b[0m\u001b[1;33m\u001b[0m\u001b[0m\n\u001b[1;32m---> 23\u001b[1;33m         \u001b[0mpm\u001b[0m\u001b[1;33m(\u001b[0m\u001b[0mfu_hr\u001b[0m\u001b[1;33m,\u001b[0m\u001b[0mhr\u001b[0m\u001b[1;33m)\u001b[0m\u001b[1;33m\u001b[0m\u001b[1;33m\u001b[0m\u001b[0m\n\u001b[0m\u001b[0;32m     24\u001b[0m     \u001b[1;32melse\u001b[0m\u001b[1;33m:\u001b[0m\u001b[1;33m\u001b[0m\u001b[1;33m\u001b[0m\u001b[0m\n\u001b[0;32m     25\u001b[0m         \u001b[0mam\u001b[0m\u001b[1;33m(\u001b[0m\u001b[0mfu_hr\u001b[0m\u001b[1;33m,\u001b[0m\u001b[0mhr\u001b[0m\u001b[1;33m)\u001b[0m\u001b[1;33m\u001b[0m\u001b[1;33m\u001b[0m\u001b[0m\n",
      "\u001b[1;32m<ipython-input-47-d98a62c66f1e>\u001b[0m in \u001b[0;36mpm\u001b[1;34m(fu_hr, hr)\u001b[0m\n\u001b[0;32m      8\u001b[0m     \u001b[0mfu_hr\u001b[0m\u001b[1;33m=\u001b[0m\u001b[0mhr\u001b[0m\u001b[1;33m+\u001b[0m\u001b[0mfu_hr\u001b[0m\u001b[1;33m\u001b[0m\u001b[1;33m\u001b[0m\u001b[0m\n\u001b[0;32m      9\u001b[0m     \u001b[1;32mif\u001b[0m \u001b[0mfu_hr\u001b[0m\u001b[1;33m>\u001b[0m\u001b[1;36m12\u001b[0m\u001b[1;33m:\u001b[0m\u001b[1;33m\u001b[0m\u001b[1;33m\u001b[0m\u001b[0m\n\u001b[1;32m---> 10\u001b[1;33m         \u001b[0mam\u001b[0m\u001b[1;33m(\u001b[0m\u001b[0mfu_hr\u001b[0m\u001b[1;33m,\u001b[0m\u001b[0mhr\u001b[0m\u001b[1;33m)\u001b[0m\u001b[1;33m\u001b[0m\u001b[1;33m\u001b[0m\u001b[0m\n\u001b[0m\u001b[0;32m     11\u001b[0m         \u001b[1;32mreturn\u001b[0m \u001b[1;34m\"none\"\u001b[0m\u001b[1;33m\u001b[0m\u001b[1;33m\u001b[0m\u001b[0m\n\u001b[0;32m     12\u001b[0m     \u001b[0mprint\u001b[0m\u001b[1;33m(\u001b[0m\u001b[1;34mf\"Future Hour:{fu_hr}\"\u001b[0m\u001b[1;33m)\u001b[0m\u001b[1;33m\u001b[0m\u001b[1;33m\u001b[0m\u001b[0m\n",
      "\u001b[1;32m<ipython-input-47-d98a62c66f1e>\u001b[0m in \u001b[0;36mam\u001b[1;34m(fu_hr, hr)\u001b[0m\n\u001b[0;32m     15\u001b[0m     \u001b[0mfu_hr\u001b[0m\u001b[1;33m=\u001b[0m\u001b[0mhr\u001b[0m\u001b[1;33m+\u001b[0m\u001b[0mfu_hr\u001b[0m\u001b[1;33m\u001b[0m\u001b[1;33m\u001b[0m\u001b[0m\n\u001b[0;32m     16\u001b[0m     \u001b[1;32mif\u001b[0m \u001b[0mfu_hr\u001b[0m\u001b[1;33m>\u001b[0m\u001b[1;36m12\u001b[0m\u001b[1;33m:\u001b[0m\u001b[1;33m\u001b[0m\u001b[1;33m\u001b[0m\u001b[0m\n\u001b[1;32m---> 17\u001b[1;33m         \u001b[0mpm\u001b[0m\u001b[1;33m(\u001b[0m\u001b[0mfu_hr\u001b[0m\u001b[1;33m,\u001b[0m\u001b[0mhr\u001b[0m\u001b[1;33m)\u001b[0m\u001b[1;33m\u001b[0m\u001b[1;33m\u001b[0m\u001b[0m\n\u001b[0m\u001b[0;32m     18\u001b[0m         \u001b[1;32mreturn\u001b[0m \u001b[1;34m\"none\"\u001b[0m\u001b[1;33m\u001b[0m\u001b[1;33m\u001b[0m\u001b[0m\n\u001b[0;32m     19\u001b[0m     \u001b[0mprint\u001b[0m\u001b[1;33m(\u001b[0m\u001b[1;34mf\"Future Hour:{fu_hr}\"\u001b[0m\u001b[1;33m)\u001b[0m\u001b[1;33m\u001b[0m\u001b[1;33m\u001b[0m\u001b[0m\n",
      "... last 2 frames repeated, from the frame below ...\n",
      "\u001b[1;32m<ipython-input-47-d98a62c66f1e>\u001b[0m in \u001b[0;36mpm\u001b[1;34m(fu_hr, hr)\u001b[0m\n\u001b[0;32m      8\u001b[0m     \u001b[0mfu_hr\u001b[0m\u001b[1;33m=\u001b[0m\u001b[0mhr\u001b[0m\u001b[1;33m+\u001b[0m\u001b[0mfu_hr\u001b[0m\u001b[1;33m\u001b[0m\u001b[1;33m\u001b[0m\u001b[0m\n\u001b[0;32m      9\u001b[0m     \u001b[1;32mif\u001b[0m \u001b[0mfu_hr\u001b[0m\u001b[1;33m>\u001b[0m\u001b[1;36m12\u001b[0m\u001b[1;33m:\u001b[0m\u001b[1;33m\u001b[0m\u001b[1;33m\u001b[0m\u001b[0m\n\u001b[1;32m---> 10\u001b[1;33m         \u001b[0mam\u001b[0m\u001b[1;33m(\u001b[0m\u001b[0mfu_hr\u001b[0m\u001b[1;33m,\u001b[0m\u001b[0mhr\u001b[0m\u001b[1;33m)\u001b[0m\u001b[1;33m\u001b[0m\u001b[1;33m\u001b[0m\u001b[0m\n\u001b[0m\u001b[0;32m     11\u001b[0m         \u001b[1;32mreturn\u001b[0m \u001b[1;34m\"none\"\u001b[0m\u001b[1;33m\u001b[0m\u001b[1;33m\u001b[0m\u001b[0m\n\u001b[0;32m     12\u001b[0m     \u001b[0mprint\u001b[0m\u001b[1;33m(\u001b[0m\u001b[1;34mf\"Future Hour:{fu_hr}\"\u001b[0m\u001b[1;33m)\u001b[0m\u001b[1;33m\u001b[0m\u001b[1;33m\u001b[0m\u001b[0m\n",
      "\u001b[1;31mRecursionError\u001b[0m: maximum recursion depth exceeded in comparison"
     ]
    }
   ],
   "source": [
    "# wap that take user input for hour between 1 and 12 and take the user input am or pm and also take user input\n",
    "# how many hour into the future they want to go print out the time by calculating hour given by user\n",
    "hr=int(input(\"Enter Hour(between 1 to 12): \"))\n",
    "ap=input(\"Enter AM or PM: \")\n",
    "fu_hr=int(input(\"Enter Future Hour(between 1 to 12): \"))\n",
    "\n",
    "def pm(fu_hr,hr):\n",
    "    fu_hr=hr+fu_hr\n",
    "    if fu_hr>12:\n",
    "        am(fu_hr,hr)\n",
    "        return \"none\"\n",
    "    print(f\"Future Hour:{fu_hr}\")\n",
    "        \n",
    "def am(fu_hr,hr):\n",
    "    fu_hr=hr+fu_hr\n",
    "    if fu_hr>12:\n",
    "        pm(fu_hr,hr)\n",
    "        return \"none\"\n",
    "    print(f\"Future Hour:{fu_hr}\")\n",
    "        \n",
    "if 0<hr<13:\n",
    "    if ap==\"pm\":\n",
    "        pm(fu_hr,hr)\n",
    "    else:\n",
    "        am(fu_hr,hr)\n",
    "else:\n",
    "    print(\"Invalid!\")"
   ]
  },
  {
   "cell_type": "code",
   "execution_count": 50,
   "metadata": {},
   "outputs": [
    {
     "name": "stdout",
     "output_type": "stream",
     "text": [
      "Enter Hour(between 1 to 12): 12\n",
      "Enter AM or PM: pm\n",
      "Enter Future Hour(between 1 to 12): 12\n",
      "12 am\n"
     ]
    }
   ],
   "source": [
    "hr=int(input(\"Enter Hour(between 1 to 12): \"))\n",
    "ampm=input(\"Enter AM or PM: \")\n",
    "fu_hr=int(input(\"Enter Future Hour(between 1 to 12): \"))\n",
    "\n",
    "for i in range (1,fu_hr+1):\n",
    "    hr+=1\n",
    "    if hr>12:\n",
    "        hr=hr-12\n",
    "    if hr==12:\n",
    "        if ampm==\"am\":\n",
    "            ampm=\"pm\"\n",
    "        elif ampm==\"pm\":\n",
    "            ampm=\"am\"\n",
    "            \n",
    "print(hr,ampm)"
   ]
  },
  {
   "cell_type": "code",
   "execution_count": 66,
   "metadata": {},
   "outputs": [
    {
     "name": "stdout",
     "output_type": "stream",
     "text": [
      "Enter Days:14\n",
      "Weeks:2\n",
      "Day:0\n",
      "Amount:3\n"
     ]
    }
   ],
   "source": [
    "# you are adding money in piggi bank starting in monday with rupees 1 and increasing 1 pre week next monday start with 2\n",
    "# increase 1 for each day follow the sasme logic for this wap to print the amount of meony after no. of days user Entered\n",
    "days=int(input(\"Enter Days:\"))\n",
    "weeks=days//7\n",
    "day=days%7\n",
    "inc=1\n",
    "\n",
    "if days//7:\n",
    "    if -1<day<8:\n",
    "        inc=inc+1\n",
    "    \n",
    "for i in range (1,weeks):\n",
    "    inc=inc+1\n",
    "    inc1=inc1+1\n",
    "    \n",
    "    \n",
    "    \n",
    "    \n",
    "    \n",
    "    \n",
    "if -1<day<8:\n",
    "        inc+=1        \n",
    "print(f\"Weeks:{weeks}\\nDay:{day}\\nAmount:{inc}\")"
   ]
  },
  {
   "cell_type": "code",
   "execution_count": 67,
   "metadata": {},
   "outputs": [
    {
     "name": "stdout",
     "output_type": "stream",
     "text": [
      "Enter Days:30\n",
      "Total:165\n"
     ]
    }
   ],
   "source": [
    "days=int(input(\"Enter Days:\"))\n",
    "monday=1\n",
    "sunday=7\n",
    "money=1\n",
    "total=0\n",
    "for i in range(days//7):\n",
    "    for j in range (money,sunday+1):\n",
    "        total+=j\n",
    "    money+=1\n",
    "    sunday+=1\n",
    "    \n",
    "for k in range (days%7):\n",
    "    total+=money\n",
    "    money+=1\n",
    "print(f\"Total:{total}\")"
   ]
  },
  {
   "cell_type": "code",
   "execution_count": null,
   "metadata": {},
   "outputs": [],
   "source": []
  }
 ],
 "metadata": {
  "kernelspec": {
   "display_name": "Python 3",
   "language": "python",
   "name": "python3"
  },
  "language_info": {
   "codemirror_mode": {
    "name": "ipython",
    "version": 3
   },
   "file_extension": ".py",
   "mimetype": "text/x-python",
   "name": "python",
   "nbconvert_exporter": "python",
   "pygments_lexer": "ipython3",
   "version": "3.8.5"
  }
 },
 "nbformat": 4,
 "nbformat_minor": 4
}
